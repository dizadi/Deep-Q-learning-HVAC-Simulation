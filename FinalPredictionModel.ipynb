{
 "cells": [
  {
   "cell_type": "code",
   "execution_count": 4,
   "metadata": {},
   "outputs": [],
   "source": [
    "import datetime as date\n",
    "import sys\n",
    "import io\n",
    "import numpy as np\n",
    "import matplotlib.pyplot as plt\n",
    "from sklearn.model_selection import train_test_split\n",
    "from sklearn import svm\n",
    "from sklearn import linear_model\n",
    "from sklearn.preprocessing import StandardScaler\n",
    "from sklearn.decomposition import PCA\n",
    "from sklearn.svm import SVR\n",
    "import pandas as pd\n",
    "import pickle\n",
    "from sklearn.ensemble import RandomForestRegressor\n",
    "from sklearn.metrics import mean_squared_error\n",
    "from sklearn.model_selection import KFold"
   ]
  },
  {
   "cell_type": "markdown",
   "metadata": {},
   "source": [
    "### Data Processing"
   ]
  },
  {
   "cell_type": "code",
   "execution_count": 5,
   "metadata": {},
   "outputs": [],
   "source": [
    "#Load unprocessed data\n",
    "filename= 'GatesData8-26-29Simple'\n",
    "df = pd.read_csv(filename+'.csv')"
   ]
  },
  {
   "cell_type": "code",
   "execution_count": 6,
   "metadata": {},
   "outputs": [
    {
     "data": {
      "text/html": [
       "<div>\n",
       "<style scoped>\n",
       "    .dataframe tbody tr th:only-of-type {\n",
       "        vertical-align: middle;\n",
       "    }\n",
       "\n",
       "    .dataframe tbody tr th {\n",
       "        vertical-align: top;\n",
       "    }\n",
       "\n",
       "    .dataframe thead th {\n",
       "        text-align: right;\n",
       "    }\n",
       "</style>\n",
       "<table border=\"1\" class=\"dataframe\">\n",
       "  <thead>\n",
       "    <tr style=\"text-align: right;\">\n",
       "      <th></th>\n",
       "      <th>Date/Time</th>\n",
       "      <th>Entry</th>\n",
       "      <th>CHW Flowrate</th>\n",
       "      <th>CHWRT</th>\n",
       "      <th>CHWST</th>\n",
       "      <th>Chilled Water Request</th>\n",
       "      <th>OA Humidity</th>\n",
       "      <th>OA Temperature</th>\n",
       "      <th>Apparent Power</th>\n",
       "      <th>3rd Floor AHU-1|SA Airflow</th>\n",
       "      <th>...</th>\n",
       "      <th>3rd Floor AHU-2|RA Humidity</th>\n",
       "      <th>3rd Floor AHU-3|RA Humidity</th>\n",
       "      <th>3rd Floor AHU-7|RA Humidity</th>\n",
       "      <th>3rd Floor AHU-8|RA Humidity</th>\n",
       "      <th>Level 2 AHU-4|RA Humidity</th>\n",
       "      <th>Level 2 AHU-5|RA Humidity</th>\n",
       "      <th>Roof AHU-10|RA Humidity</th>\n",
       "      <th>Roof AHU-11|RA Humidity</th>\n",
       "      <th>Roof AHU-12|RA Humidity</th>\n",
       "      <th>Roof AHU-9|RA Humidity</th>\n",
       "    </tr>\n",
       "  </thead>\n",
       "  <tbody>\n",
       "    <tr>\n",
       "      <th>0</th>\n",
       "      <td>8/28/19 0:00</td>\n",
       "      <td>0</td>\n",
       "      <td>79.969933</td>\n",
       "      <td>53.282894</td>\n",
       "      <td>46.400002</td>\n",
       "      <td>1</td>\n",
       "      <td>90.519997</td>\n",
       "      <td>72.292000</td>\n",
       "      <td>413680</td>\n",
       "      <td>1532.060059</td>\n",
       "      <td>...</td>\n",
       "      <td>45.632130</td>\n",
       "      <td>46.360001</td>\n",
       "      <td>48.876602</td>\n",
       "      <td>53.635258</td>\n",
       "      <td>56.809170</td>\n",
       "      <td>76.444534</td>\n",
       "      <td>55.450722</td>\n",
       "      <td>53.867073</td>\n",
       "      <td>53.043949</td>\n",
       "      <td>54.188179</td>\n",
       "    </tr>\n",
       "    <tr>\n",
       "      <th>1</th>\n",
       "      <td>8/28/19 0:01</td>\n",
       "      <td>1</td>\n",
       "      <td>144.692215</td>\n",
       "      <td>53.382935</td>\n",
       "      <td>46.400002</td>\n",
       "      <td>1</td>\n",
       "      <td>90.508080</td>\n",
       "      <td>72.292000</td>\n",
       "      <td>404159</td>\n",
       "      <td>1561.681641</td>\n",
       "      <td>...</td>\n",
       "      <td>45.562870</td>\n",
       "      <td>46.351658</td>\n",
       "      <td>48.985153</td>\n",
       "      <td>53.633373</td>\n",
       "      <td>57.092518</td>\n",
       "      <td>76.419258</td>\n",
       "      <td>55.568371</td>\n",
       "      <td>53.880249</td>\n",
       "      <td>52.599510</td>\n",
       "      <td>54.193092</td>\n",
       "    </tr>\n",
       "    <tr>\n",
       "      <th>2</th>\n",
       "      <td>8/28/19 0:02</td>\n",
       "      <td>2</td>\n",
       "      <td>11.871678</td>\n",
       "      <td>53.400002</td>\n",
       "      <td>46.234203</td>\n",
       "      <td>1</td>\n",
       "      <td>90.490074</td>\n",
       "      <td>72.310303</td>\n",
       "      <td>408172</td>\n",
       "      <td>1597.395996</td>\n",
       "      <td>...</td>\n",
       "      <td>45.458839</td>\n",
       "      <td>46.333656</td>\n",
       "      <td>48.100964</td>\n",
       "      <td>53.639378</td>\n",
       "      <td>58.625011</td>\n",
       "      <td>76.401260</td>\n",
       "      <td>55.188408</td>\n",
       "      <td>53.900249</td>\n",
       "      <td>51.953472</td>\n",
       "      <td>54.217091</td>\n",
       "    </tr>\n",
       "    <tr>\n",
       "      <th>3</th>\n",
       "      <td>8/28/19 0:03</td>\n",
       "      <td>3</td>\n",
       "      <td>75.676659</td>\n",
       "      <td>53.482761</td>\n",
       "      <td>46.282761</td>\n",
       "      <td>1</td>\n",
       "      <td>90.472076</td>\n",
       "      <td>72.331894</td>\n",
       "      <td>412268</td>\n",
       "      <td>1633.110474</td>\n",
       "      <td>...</td>\n",
       "      <td>45.354813</td>\n",
       "      <td>46.315655</td>\n",
       "      <td>47.216778</td>\n",
       "      <td>53.645378</td>\n",
       "      <td>60.157501</td>\n",
       "      <td>76.383255</td>\n",
       "      <td>54.808441</td>\n",
       "      <td>53.920254</td>\n",
       "      <td>51.307430</td>\n",
       "      <td>54.241093</td>\n",
       "    </tr>\n",
       "    <tr>\n",
       "      <th>4</th>\n",
       "      <td>8/28/19 0:04</td>\n",
       "      <td>4</td>\n",
       "      <td>40.211014</td>\n",
       "      <td>53.500000</td>\n",
       "      <td>46.217072</td>\n",
       "      <td>1</td>\n",
       "      <td>90.454071</td>\n",
       "      <td>72.353485</td>\n",
       "      <td>416364</td>\n",
       "      <td>1668.824951</td>\n",
       "      <td>...</td>\n",
       "      <td>45.250786</td>\n",
       "      <td>46.297657</td>\n",
       "      <td>46.332588</td>\n",
       "      <td>53.651382</td>\n",
       "      <td>61.689991</td>\n",
       "      <td>76.365250</td>\n",
       "      <td>54.428478</td>\n",
       "      <td>53.940254</td>\n",
       "      <td>50.661392</td>\n",
       "      <td>54.265091</td>\n",
       "    </tr>\n",
       "  </tbody>\n",
       "</table>\n",
       "<p>5 rows × 31 columns</p>\n",
       "</div>"
      ],
      "text/plain": [
       "      Date/Time  Entry  CHW Flowrate      CHWRT      CHWST  \\\n",
       "0  8/28/19 0:00      0     79.969933  53.282894  46.400002   \n",
       "1  8/28/19 0:01      1    144.692215  53.382935  46.400002   \n",
       "2  8/28/19 0:02      2     11.871678  53.400002  46.234203   \n",
       "3  8/28/19 0:03      3     75.676659  53.482761  46.282761   \n",
       "4  8/28/19 0:04      4     40.211014  53.500000  46.217072   \n",
       "\n",
       "   Chilled Water Request  OA Humidity  OA Temperature  Apparent Power  \\\n",
       "0                      1    90.519997       72.292000          413680   \n",
       "1                      1    90.508080       72.292000          404159   \n",
       "2                      1    90.490074       72.310303          408172   \n",
       "3                      1    90.472076       72.331894          412268   \n",
       "4                      1    90.454071       72.353485          416364   \n",
       "\n",
       "   3rd Floor AHU-1|SA Airflow  ...  3rd Floor AHU-2|RA Humidity  \\\n",
       "0                 1532.060059  ...                    45.632130   \n",
       "1                 1561.681641  ...                    45.562870   \n",
       "2                 1597.395996  ...                    45.458839   \n",
       "3                 1633.110474  ...                    45.354813   \n",
       "4                 1668.824951  ...                    45.250786   \n",
       "\n",
       "   3rd Floor AHU-3|RA Humidity  3rd Floor AHU-7|RA Humidity  \\\n",
       "0                    46.360001                    48.876602   \n",
       "1                    46.351658                    48.985153   \n",
       "2                    46.333656                    48.100964   \n",
       "3                    46.315655                    47.216778   \n",
       "4                    46.297657                    46.332588   \n",
       "\n",
       "   3rd Floor AHU-8|RA Humidity  Level 2 AHU-4|RA Humidity  \\\n",
       "0                    53.635258                  56.809170   \n",
       "1                    53.633373                  57.092518   \n",
       "2                    53.639378                  58.625011   \n",
       "3                    53.645378                  60.157501   \n",
       "4                    53.651382                  61.689991   \n",
       "\n",
       "   Level 2 AHU-5|RA Humidity  Roof AHU-10|RA Humidity  \\\n",
       "0                  76.444534                55.450722   \n",
       "1                  76.419258                55.568371   \n",
       "2                  76.401260                55.188408   \n",
       "3                  76.383255                54.808441   \n",
       "4                  76.365250                54.428478   \n",
       "\n",
       "   Roof AHU-11|RA Humidity  Roof AHU-12|RA Humidity  Roof AHU-9|RA Humidity  \n",
       "0                53.867073                53.043949               54.188179  \n",
       "1                53.880249                52.599510               54.193092  \n",
       "2                53.900249                51.953472               54.217091  \n",
       "3                53.920254                51.307430               54.241093  \n",
       "4                53.940254                50.661392               54.265091  \n",
       "\n",
       "[5 rows x 31 columns]"
      ]
     },
     "execution_count": 6,
     "metadata": {},
     "output_type": "execute_result"
    }
   ],
   "source": [
    "# original data\n",
    "df.head()"
   ]
  },
  {
   "cell_type": "code",
   "execution_count": 7,
   "metadata": {},
   "outputs": [],
   "source": [
    "#fix date/time column\n",
    "for timestamp in df.iloc[:,0]:\n",
    "    date = timestamp[:8]\n",
    "    time = timestamp[8:]\n",
    "\n",
    "df = df.drop([df.columns[0]], axis='columns')\n",
    "df.insert(0,'Date',date)\n",
    "df.insert(1,'Time', time)"
   ]
  },
  {
   "cell_type": "code",
   "execution_count": 8,
   "metadata": {},
   "outputs": [
    {
     "data": {
      "text/plain": [
       "(5760, 32)"
      ]
     },
     "execution_count": 8,
     "metadata": {},
     "output_type": "execute_result"
    }
   ],
   "source": [
    "df.shape"
   ]
  },
  {
   "cell_type": "code",
   "execution_count": 9,
   "metadata": {},
   "outputs": [
    {
     "data": {
      "text/plain": [
       "array([[0.00000000e+00, 7.99699326e+01, 5.32828941e+01, ...,\n",
       "        5.38670731e+01, 5.30439491e+01, 5.41881790e+01],\n",
       "       [1.00000000e+00, 1.44692215e+02, 5.33829346e+01, ...,\n",
       "        5.38802490e+01, 5.25995102e+01, 5.41930924e+01],\n",
       "       [2.00000000e+00, 1.18716783e+01, 5.34000015e+01, ...,\n",
       "        5.39002495e+01, 5.19534721e+01, 5.42170906e+01],\n",
       "       ...,\n",
       "       [1.43800000e+03, 8.00000000e+00, 5.33170395e+01, ...,\n",
       "        5.38490753e+01, 5.37818871e+01, 5.42421608e+01],\n",
       "       [1.43900000e+03, 7.25741272e+01, 5.32170372e+01, ...,\n",
       "        5.38550758e+01, 5.35359077e+01, 5.42241669e+01],\n",
       "       [1.44000000e+03, 7.64735107e+01, 5.32000008e+01, ...,\n",
       "        5.38610763e+01, 5.32899284e+01, 5.42061729e+01]])"
      ]
     },
     "execution_count": 9,
     "metadata": {},
     "output_type": "execute_result"
    }
   ],
   "source": [
    "# drop the columns that contain all zeros\n",
    "df = df[(df.T!=0).any()]\n",
    "df = df.dropna(axis='columns')\n",
    "df.values[:,2:].astype(float) #convert all measured values to floats"
   ]
  },
  {
   "cell_type": "code",
   "execution_count": 10,
   "metadata": {},
   "outputs": [
    {
     "data": {
      "text/html": [
       "<div>\n",
       "<style scoped>\n",
       "    .dataframe tbody tr th:only-of-type {\n",
       "        vertical-align: middle;\n",
       "    }\n",
       "\n",
       "    .dataframe tbody tr th {\n",
       "        vertical-align: top;\n",
       "    }\n",
       "\n",
       "    .dataframe thead th {\n",
       "        text-align: right;\n",
       "    }\n",
       "</style>\n",
       "<table border=\"1\" class=\"dataframe\">\n",
       "  <thead>\n",
       "    <tr style=\"text-align: right;\">\n",
       "      <th></th>\n",
       "      <th>Date</th>\n",
       "      <th>Time</th>\n",
       "      <th>Entry</th>\n",
       "      <th>CHW Flowrate</th>\n",
       "      <th>CHWRT</th>\n",
       "      <th>CHWST</th>\n",
       "      <th>Chilled Water Request</th>\n",
       "      <th>OA Humidity</th>\n",
       "      <th>OA Temperature</th>\n",
       "      <th>Apparent Power</th>\n",
       "      <th>...</th>\n",
       "      <th>3rd Floor AHU-3|RA Humidity</th>\n",
       "      <th>3rd Floor AHU-7|RA Humidity</th>\n",
       "      <th>3rd Floor AHU-8|RA Humidity</th>\n",
       "      <th>Level 2 AHU-4|RA Humidity</th>\n",
       "      <th>Level 2 AHU-5|RA Humidity</th>\n",
       "      <th>Roof AHU-10|RA Humidity</th>\n",
       "      <th>Roof AHU-11|RA Humidity</th>\n",
       "      <th>Roof AHU-12|RA Humidity</th>\n",
       "      <th>Roof AHU-9|RA Humidity</th>\n",
       "      <th>Run Time</th>\n",
       "    </tr>\n",
       "  </thead>\n",
       "  <tbody>\n",
       "    <tr>\n",
       "      <th>0</th>\n",
       "      <td>8/27/19</td>\n",
       "      <td>23:59</td>\n",
       "      <td>0</td>\n",
       "      <td>79.969933</td>\n",
       "      <td>53.282894</td>\n",
       "      <td>46.400002</td>\n",
       "      <td>1</td>\n",
       "      <td>90.519997</td>\n",
       "      <td>72.292000</td>\n",
       "      <td>413680</td>\n",
       "      <td>...</td>\n",
       "      <td>46.360001</td>\n",
       "      <td>48.876602</td>\n",
       "      <td>53.635258</td>\n",
       "      <td>56.809170</td>\n",
       "      <td>76.444534</td>\n",
       "      <td>55.450722</td>\n",
       "      <td>53.867073</td>\n",
       "      <td>53.043949</td>\n",
       "      <td>54.188179</td>\n",
       "      <td>1.0</td>\n",
       "    </tr>\n",
       "    <tr>\n",
       "      <th>1</th>\n",
       "      <td>8/27/19</td>\n",
       "      <td>23:59</td>\n",
       "      <td>1</td>\n",
       "      <td>144.692215</td>\n",
       "      <td>53.382935</td>\n",
       "      <td>46.400002</td>\n",
       "      <td>1</td>\n",
       "      <td>90.508080</td>\n",
       "      <td>72.292000</td>\n",
       "      <td>404159</td>\n",
       "      <td>...</td>\n",
       "      <td>46.351658</td>\n",
       "      <td>48.985153</td>\n",
       "      <td>53.633373</td>\n",
       "      <td>57.092518</td>\n",
       "      <td>76.419258</td>\n",
       "      <td>55.568371</td>\n",
       "      <td>53.880249</td>\n",
       "      <td>52.599510</td>\n",
       "      <td>54.193092</td>\n",
       "      <td>2.0</td>\n",
       "    </tr>\n",
       "    <tr>\n",
       "      <th>2</th>\n",
       "      <td>8/27/19</td>\n",
       "      <td>23:59</td>\n",
       "      <td>2</td>\n",
       "      <td>11.871678</td>\n",
       "      <td>53.400002</td>\n",
       "      <td>46.234203</td>\n",
       "      <td>1</td>\n",
       "      <td>90.490074</td>\n",
       "      <td>72.310303</td>\n",
       "      <td>408172</td>\n",
       "      <td>...</td>\n",
       "      <td>46.333656</td>\n",
       "      <td>48.100964</td>\n",
       "      <td>53.639378</td>\n",
       "      <td>58.625011</td>\n",
       "      <td>76.401260</td>\n",
       "      <td>55.188408</td>\n",
       "      <td>53.900249</td>\n",
       "      <td>51.953472</td>\n",
       "      <td>54.217091</td>\n",
       "      <td>3.0</td>\n",
       "    </tr>\n",
       "    <tr>\n",
       "      <th>3</th>\n",
       "      <td>8/27/19</td>\n",
       "      <td>23:59</td>\n",
       "      <td>3</td>\n",
       "      <td>75.676659</td>\n",
       "      <td>53.482761</td>\n",
       "      <td>46.282761</td>\n",
       "      <td>1</td>\n",
       "      <td>90.472076</td>\n",
       "      <td>72.331894</td>\n",
       "      <td>412268</td>\n",
       "      <td>...</td>\n",
       "      <td>46.315655</td>\n",
       "      <td>47.216778</td>\n",
       "      <td>53.645378</td>\n",
       "      <td>60.157501</td>\n",
       "      <td>76.383255</td>\n",
       "      <td>54.808441</td>\n",
       "      <td>53.920254</td>\n",
       "      <td>51.307430</td>\n",
       "      <td>54.241093</td>\n",
       "      <td>4.0</td>\n",
       "    </tr>\n",
       "    <tr>\n",
       "      <th>4</th>\n",
       "      <td>8/27/19</td>\n",
       "      <td>23:59</td>\n",
       "      <td>4</td>\n",
       "      <td>40.211014</td>\n",
       "      <td>53.500000</td>\n",
       "      <td>46.217072</td>\n",
       "      <td>1</td>\n",
       "      <td>90.454071</td>\n",
       "      <td>72.353485</td>\n",
       "      <td>416364</td>\n",
       "      <td>...</td>\n",
       "      <td>46.297657</td>\n",
       "      <td>46.332588</td>\n",
       "      <td>53.651382</td>\n",
       "      <td>61.689991</td>\n",
       "      <td>76.365250</td>\n",
       "      <td>54.428478</td>\n",
       "      <td>53.940254</td>\n",
       "      <td>50.661392</td>\n",
       "      <td>54.265091</td>\n",
       "      <td>5.0</td>\n",
       "    </tr>\n",
       "  </tbody>\n",
       "</table>\n",
       "<p>5 rows × 33 columns</p>\n",
       "</div>"
      ],
      "text/plain": [
       "       Date   Time  Entry  CHW Flowrate      CHWRT      CHWST  \\\n",
       "0  8/27/19   23:59      0     79.969933  53.282894  46.400002   \n",
       "1  8/27/19   23:59      1    144.692215  53.382935  46.400002   \n",
       "2  8/27/19   23:59      2     11.871678  53.400002  46.234203   \n",
       "3  8/27/19   23:59      3     75.676659  53.482761  46.282761   \n",
       "4  8/27/19   23:59      4     40.211014  53.500000  46.217072   \n",
       "\n",
       "   Chilled Water Request  OA Humidity  OA Temperature  Apparent Power  ...  \\\n",
       "0                      1    90.519997       72.292000          413680  ...   \n",
       "1                      1    90.508080       72.292000          404159  ...   \n",
       "2                      1    90.490074       72.310303          408172  ...   \n",
       "3                      1    90.472076       72.331894          412268  ...   \n",
       "4                      1    90.454071       72.353485          416364  ...   \n",
       "\n",
       "   3rd Floor AHU-3|RA Humidity  3rd Floor AHU-7|RA Humidity  \\\n",
       "0                    46.360001                    48.876602   \n",
       "1                    46.351658                    48.985153   \n",
       "2                    46.333656                    48.100964   \n",
       "3                    46.315655                    47.216778   \n",
       "4                    46.297657                    46.332588   \n",
       "\n",
       "   3rd Floor AHU-8|RA Humidity  Level 2 AHU-4|RA Humidity  \\\n",
       "0                    53.635258                  56.809170   \n",
       "1                    53.633373                  57.092518   \n",
       "2                    53.639378                  58.625011   \n",
       "3                    53.645378                  60.157501   \n",
       "4                    53.651382                  61.689991   \n",
       "\n",
       "   Level 2 AHU-5|RA Humidity  Roof AHU-10|RA Humidity  \\\n",
       "0                  76.444534                55.450722   \n",
       "1                  76.419258                55.568371   \n",
       "2                  76.401260                55.188408   \n",
       "3                  76.383255                54.808441   \n",
       "4                  76.365250                54.428478   \n",
       "\n",
       "   Roof AHU-11|RA Humidity  Roof AHU-12|RA Humidity  Roof AHU-9|RA Humidity  \\\n",
       "0                53.867073                53.043949               54.188179   \n",
       "1                53.880249                52.599510               54.193092   \n",
       "2                53.900249                51.953472               54.217091   \n",
       "3                53.920254                51.307430               54.241093   \n",
       "4                53.940254                50.661392               54.265091   \n",
       "\n",
       "   Run Time  \n",
       "0       1.0  \n",
       "1       2.0  \n",
       "2       3.0  \n",
       "3       4.0  \n",
       "4       5.0  \n",
       "\n",
       "[5 rows x 33 columns]"
      ]
     },
     "execution_count": 10,
     "metadata": {},
     "output_type": "execute_result"
    }
   ],
   "source": [
    "#create new feature for runtime length\n",
    "request_status = df['Chilled Water Request']\n",
    "run_time = np.zeros(request_status.shape[0])\n",
    "t=0\n",
    "\n",
    "for i in range(request_status.shape[0]):\n",
    "    status = request_status[i]\n",
    "    if status == 0:\n",
    "        t=0\n",
    "    elif status==1:\n",
    "        t+=status\n",
    "    run_time[i] = t\n",
    "    \n",
    "df['Run Time'] = run_time\n",
    "df.head()"
   ]
  },
  {
   "cell_type": "code",
   "execution_count": 11,
   "metadata": {},
   "outputs": [],
   "source": [
    "#saved processed data file\n",
    "df.to_csv('Processed_'+filename+'.csv')"
   ]
  },
  {
   "cell_type": "code",
   "execution_count": 12,
   "metadata": {},
   "outputs": [
    {
     "data": {
      "text/plain": [
       "(5760, 33)"
      ]
     },
     "execution_count": 12,
     "metadata": {},
     "output_type": "execute_result"
    }
   ],
   "source": [
    "df.shape"
   ]
  },
  {
   "cell_type": "markdown",
   "metadata": {},
   "source": [
    "### Define functions used in predictive models"
   ]
  },
  {
   "cell_type": "code",
   "execution_count": 13,
   "metadata": {},
   "outputs": [],
   "source": [
    "#split into training and test\n",
    "def prepare(Xraw, yraw, varexplained=None):\n",
    "    X_train, X_test, y_train, y_test = train_test_split(Xraw, yraw, test_size=0.3, random_state=10)\n",
    "    #normalize data for gradient descent\n",
    "    scaler = StandardScaler()\n",
    "    scaler.fit(X_train)\n",
    "    X_train = scaler.transform(X_train)\n",
    "    X_test = scaler.transform(X_test)\n",
    "    return X_train, X_test, y_train, y_test, scaler\n",
    "    \n",
    "#PCA to reduce number of features - not used\n",
    "def pca_func(varexplained, Xtrain, ytrain, Xtest, ytest):\n",
    "    pca = PCA(n_components=varexplained, random_state=10)\n",
    "    pca.fit(Xtrain)\n",
    "    Xtrain2 = pca.transform(Xtrain)\n",
    "    Xtest2 = pca.transform(Xtest)\n",
    "    return Xtrain2, Xtest2, pca\n",
    "\n",
    "# Move new target variable to last column\n",
    "def target(dataframe, new_label, remove1=None, remove2=None):\n",
    "    dfnew = dataframe[[c for c in df if c not in [new_label,remove1,remove2]] + [new_label]]\n",
    "    X_raw = dfnew[dfnew.columns[2:-1]].values\n",
    "    y_raw = dfnew[dfnew.columns[-1]].values\n",
    "    return dfnew, X_raw, y_raw\n",
    "\n",
    "#save model and load model functions\n",
    "def savemodel(filename, model):\n",
    "    # save the model to disk\n",
    "    filename = filename + '.sav'\n",
    "    pickle.dump(model, open(filename, 'wb'))\n",
    "\n",
    "def loadmodel(filename):\n",
    "    # load the model from disk\n",
    "    loaded_model = pickle.load(open(filename, 'rb'))\n",
    "    return loaded_model"
   ]
  },
  {
   "cell_type": "markdown",
   "metadata": {},
   "source": [
    "### Chilled Water Return Temperature Prediction"
   ]
  },
  {
   "cell_type": "code",
   "execution_count": 14,
   "metadata": {},
   "outputs": [],
   "source": [
    "#process data and save scale model\n",
    "df1, X_raw1, y_raw1 = target(df, 'CHWRT','Apparent Power')\n",
    "X_train1, X_test1, y_train1, y_test1, CHWRT_scaler = prepare(X_raw1, y_raw1)\n",
    "savemodel('CHWRT_scaler', CHWRT_scaler)"
   ]
  },
  {
   "cell_type": "code",
   "execution_count": 15,
   "metadata": {},
   "outputs": [
    {
     "data": {
      "text/plain": [
       "(0.9974565625800099, 0.9823040710154923, 0.0013792618714129328)"
      ]
     },
     "execution_count": 15,
     "metadata": {},
     "output_type": "execute_result"
    }
   ],
   "source": [
    "#perform SVR on CHWRT\n",
    "CHWRT_rbf = SVR(kernel='rbf', C=1500, gamma='auto', epsilon=0.05, tol=1e-7)\n",
    "\n",
    "CHWRT_rbf.fit(X_train1, y_train1)\n",
    "CHWRT_rbf.predict(X_train1)\n",
    "y_predict1 = CHWRT_rbf.predict(X_test1)\n",
    "\n",
    "CHWRT_rbf.score(X_train1,y_train1), CHWRT_rbf.score(X_test1,y_test1), mean_squared_error(y_test1/y_test1, y_predict1/y_test1)*100"
   ]
  },
  {
   "cell_type": "code",
   "execution_count": 16,
   "metadata": {},
   "outputs": [],
   "source": [
    "#save SVR model for later use\n",
    "savemodel('CHWRT_prediction', CHWRT_rbf)"
   ]
  },
  {
   "cell_type": "markdown",
   "metadata": {},
   "source": [
    "### Apparent Power Prediction"
   ]
  },
  {
   "cell_type": "code",
   "execution_count": 17,
   "metadata": {},
   "outputs": [],
   "source": [
    "#process data and save scale model\n",
    "df2, X_raw2, y_raw2 = target(df, 'Apparent Power')\n",
    "X_train2, X_test2, y_train2, y_test2, power_scaler = prepare(X_raw2, y_raw2)\n",
    "savemodel('Power_scaler', power_scaler)"
   ]
  },
  {
   "cell_type": "code",
   "execution_count": 18,
   "metadata": {},
   "outputs": [
    {
     "data": {
      "text/plain": [
       "(0.9754681344551837, 0.9735308759968906, 0.0007776544759563472)"
      ]
     },
     "execution_count": 18,
     "metadata": {},
     "output_type": "execute_result"
    }
   ],
   "source": [
    "#perform SVR on Apparent Power\n",
    "power_rbf = SVR(kernel='rbf', C=5000, gamma='auto', epsilon=0.1, tol=1e-7)\n",
    "\n",
    "power_rbf.fit(X_train2, y_train2)\n",
    "power_rbf.predict(X_train2)\n",
    "power_rbf.predict(X_test2)\n",
    "y_predict2 = power_rbf.predict(X_test2)\n",
    "\n",
    "\n",
    "power_rbf.score(X_train2,y_train2), power_rbf.score(X_test2,y_test2), mean_squared_error(y_test2/y_test2, y_predict2/y_test2)"
   ]
  },
  {
   "cell_type": "code",
   "execution_count": 19,
   "metadata": {},
   "outputs": [],
   "source": [
    "#save SVR model for later use\n",
    "savemodel('Power_prediction', power_rbf)"
   ]
  },
  {
   "cell_type": "markdown",
   "metadata": {},
   "source": [
    "### Chilled Water Flow Rate Prediction"
   ]
  },
  {
   "cell_type": "code",
   "execution_count": 20,
   "metadata": {},
   "outputs": [],
   "source": [
    "#process data and save scale model\n",
    "df3, X_raw3, y_raw3 = target(df,'CHW Flowrate','Apparent Power')\n",
    "X_train3, X_test3, y_train3, y_test3,CHWF_scaler = prepare(X_raw3, y_raw3)\n",
    "savemodel('CHWF_scaler', CHWF_scaler)\n"
   ]
  },
  {
   "cell_type": "code",
   "execution_count": 21,
   "metadata": {},
   "outputs": [
    {
     "data": {
      "text/plain": [
       "(0.9346222621309754, 0.7224781134125784)"
      ]
     },
     "execution_count": 21,
     "metadata": {},
     "output_type": "execute_result"
    }
   ],
   "source": [
    "#perform SVR on Chilled Water Flowrate\n",
    "CHWF_rbf = SVR(kernel='rbf', C=140, gamma=0.6, epsilon=0.05, tol=1e-7)\n",
    "\n",
    "CHWF_rbf.fit(X_train3, y_train3)\n",
    "CHWF_rbf.predict(X_train3)\n",
    "y_predict3 = CHWF_rbf.predict(X_test3)\n",
    "\n",
    "CHWF_rbf.score(X_train3,y_train3), CHWF_rbf.score(X_test3,y_test3)"
   ]
  },
  {
   "cell_type": "code",
   "execution_count": 22,
   "metadata": {},
   "outputs": [],
   "source": [
    "#save svr model for later use\n",
    "savemodel('flow_prediction', CHWF_rbf)"
   ]
  },
  {
   "cell_type": "code",
   "execution_count": null,
   "metadata": {},
   "outputs": [],
   "source": []
  },
  {
   "cell_type": "code",
   "execution_count": null,
   "metadata": {},
   "outputs": [],
   "source": []
  },
  {
   "cell_type": "code",
   "execution_count": null,
   "metadata": {},
   "outputs": [],
   "source": []
  }
 ],
 "metadata": {
  "kernelspec": {
   "display_name": "Python 3",
   "language": "python",
   "name": "python3"
  },
  "language_info": {
   "codemirror_mode": {
    "name": "ipython",
    "version": 3
   },
   "file_extension": ".py",
   "mimetype": "text/x-python",
   "name": "python",
   "nbconvert_exporter": "python",
   "pygments_lexer": "ipython3",
   "version": "3.7.3"
  }
 },
 "nbformat": 4,
 "nbformat_minor": 4
}
